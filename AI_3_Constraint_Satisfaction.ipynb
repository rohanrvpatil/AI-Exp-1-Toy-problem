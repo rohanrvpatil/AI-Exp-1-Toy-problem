{
  "nbformat": 4,
  "nbformat_minor": 0,
  "metadata": {
    "colab": {
      "name": "AI - 3.Constraint Satisfaction.ipynb",
      "provenance": [],
      "authorship_tag": "ABX9TyNxCAhyuB9iVa1G0B2Ctsoy",
      "include_colab_link": true
    },
    "kernelspec": {
      "name": "python3",
      "display_name": "Python 3"
    }
  },
  "cells": [
    {
      "cell_type": "markdown",
      "metadata": {
        "id": "view-in-github",
        "colab_type": "text"
      },
      "source": [
        "<a href=\"https://colab.research.google.com/github/rohanrvpatil/AI-Experiments/blob/main/AI_3_Constraint_Satisfaction.ipynb\" target=\"_parent\"><img src=\"https://colab.research.google.com/assets/colab-badge.svg\" alt=\"Open In Colab\"/></a>"
      ]
    },
    {
      "cell_type": "code",
      "metadata": {
        "colab": {
          "base_uri": "https://localhost:8080/"
        },
        "id": "7Vvlz91Bulk_",
        "outputId": "002922ac-3282-4a54-bc71-23ed4a702101"
      },
      "source": [
        "# M coloring problem - using backtracking\r\n",
        "\r\n",
        "\r\n",
        "# Number of vertices in the graph\r\n",
        "# define 4 4\r\n",
        "\r\n",
        "# check if the colored\r\n",
        "# graph is safe or not\r\n",
        "def isSafe(graph, color):\r\n",
        "\r\n",
        "\t# check for every edge\r\n",
        "\tfor i in range(4):\r\n",
        "\t\tfor j in range(i + 1, 4):\r\n",
        "\t\t\tif (graph[i][j] and color[j] == color[i]):\r\n",
        "\t\t\t\treturn False\r\n",
        "\treturn True\r\n",
        "\r\n",
        "# /* This function solves the m Coloring\r\n",
        "# problem using recursion. It returns\r\n",
        "# false if the m colours cannot be assigned,\r\n",
        "# otherwise, return true and prints\r\n",
        "# assignments of colours to all vertices.\r\n",
        "# Please note that there may be more than\r\n",
        "# one solutions, this function prints one\r\n",
        "# of the feasible solutions.*/\r\n",
        "def graphColoring(graph, m, i, color):\r\n",
        "\r\n",
        "\t# if current index reached end\r\n",
        "\tif (i == 4):\r\n",
        "\r\n",
        "\t\t# if coloring is safe\r\n",
        "\t\tif (isSafe(graph, color)):\r\n",
        "\r\n",
        "\t\t\t# Prthe solution\r\n",
        "\t\t\tprintSolution(color)\r\n",
        "\t\t\treturn True\r\n",
        "\t\treturn False\r\n",
        "\r\n",
        "\t# Assign each color from 1 to m\r\n",
        "\tfor j in range(1, m + 1):\r\n",
        "\t\tcolor[i] = j\r\n",
        "\r\n",
        "\t\t# Recur of the rest vertices\r\n",
        "\t\tif (graphColoring(graph, m, i + 1, color)):\r\n",
        "\t\t\treturn True\r\n",
        "\t\tcolor[i] = 0\r\n",
        "\treturn False\r\n",
        "\r\n",
        "# /* A utility function to prsolution */\r\n",
        "def printSolution(color):\r\n",
        "\tprint(\"Solution Exists:\" \" Following are the assigned colors \")\r\n",
        "\tfor i in range(4):\r\n",
        "\t\tprint(color[i],end=\" \")\r\n",
        "\r\n",
        "# Driver code\r\n",
        "if __name__ == '__main__':\r\n",
        "\r\n",
        "\t# /* Create following graph and\r\n",
        "\t# test whether it is 3 colorable\r\n",
        "\t# (3)---(2)\r\n",
        "\t# | / |\r\n",
        "\t# | / |\r\n",
        "\t# | / |\r\n",
        "\t# (0)---(1)\r\n",
        "\t# */\r\n",
        "\tgraph = [\r\n",
        "\t\t[ 0, 1, 1, 1 ],\r\n",
        "\t\t[ 1, 0, 1, 0 ],\r\n",
        "\t\t[ 1, 1, 0, 1 ],\r\n",
        "\t\t[ 1, 0, 1, 0 ],\r\n",
        "\t]\r\n",
        "\tm = 3 # Number of colors\r\n",
        "\r\n",
        "\t# Initialize all color values as 0.\r\n",
        "\t# This initialization is needed\r\n",
        "\t# correct functioning of isSafe()\r\n",
        "\tcolor = [0 for i in range(4)]\r\n",
        "\r\n",
        "\tif (not graphColoring(graph, m, 0, color)):\r\n",
        "\t\tprint (\"Solution does not exist\")\r\n",
        "\r\n",
        "# This code is contributed by mohit kumar 29\r\n"
      ],
      "execution_count": 1,
      "outputs": [
        {
          "output_type": "stream",
          "text": [
            "Solution Exists: Following are the assigned colors \n",
            "1 2 3 2 "
          ],
          "name": "stdout"
        }
      ]
    }
  ]
}