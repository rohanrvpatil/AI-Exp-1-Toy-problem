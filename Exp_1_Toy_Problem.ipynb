{
  "nbformat": 4,
  "nbformat_minor": 0,
  "metadata": {
    "colab": {
      "name": "Exp 1 - Toy Problem.ipynb",
      "provenance": [],
      "collapsed_sections": []
    },
    "kernelspec": {
      "name": "python3",
      "display_name": "Python 3"
    }
  },
  "cells": [
    {
      "cell_type": "code",
      "metadata": {
        "id": "Bo-RG9qLw4hI",
        "colab": {
          "base_uri": "https://localhost:8080/"
        },
        "outputId": "047f2c56-020c-4016-ceb6-05145fa3911d"
      },
      "source": [
        "total=int(input('Enter no. of bananas at starting'))\r\n",
        "distance=int(input('Enter distance you want to cover'))\r\n",
        "load_capacity=int(input('Enter max load capacity of your camel'))\r\n",
        "lose=0\r\n",
        "start=total\r\n",
        "for i in range(distance):\r\n",
        "    while start>0:\r\n",
        "        start=start-load_capacity\r\n",
        "#Here if condition is checking that camel doesn't move back if there is only one banana left.\r\n",
        "        if start==1:\r\n",
        "            lose=lose-1#Lose is decreased because if camel try to get remaining one banana he will lose one extra banana for covering that two miles.\r\n",
        "#Here we are increasing lose because for moving backward and forward by one mile two bananas will be lose\r\n",
        "        lose=lose+2\r\n",
        "#Here lose is decreased as in last trip camel will not go back.\r\n",
        "    lose=lose-1\r\n",
        "    start=total-lose\r\n",
        "    if start==0:#Condition to check whether it is possible to take a single banana or not.\r\n",
        "        break\r\n",
        "print(start)"
      ],
      "execution_count": null,
      "outputs": [
        {
          "output_type": "stream",
          "text": [
            "Enter no. of bananas at starting3000\n",
            "Enter distance you want to cover1000\n",
            "Enter max load capacity of your camel1000\n",
            "533\n"
          ],
          "name": "stdout"
        }
      ]
    }
  ]
}